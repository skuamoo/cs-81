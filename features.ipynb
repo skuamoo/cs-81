{
 "cells": [
  {
   "cell_type": "code",
   "execution_count": 157,
   "metadata": {
    "collapsed": true
   },
   "outputs": [],
   "source": [
    "%matplotlib inline\n",
    "import numpy as np\n",
    "import nltk\n",
    "import glob\n",
    "import os\n",
    "from sklearn.feature_extraction.text import CountVectorizer\n",
    "from sklearn.cluster import KMeans\n",
    "import pandas as pd\n",
    "from sklearn.mixture import GMM\n",
    "from sklearn.metrics import silhouette_score\n",
    "import matplotlib.pyplot as plt\n",
    "import sklearn.decomposition\n",
    "from collections import defaultdict"
   ]
  },
  {
   "cell_type": "code",
   "execution_count": null,
   "metadata": {
    "collapsed": true
   },
   "outputs": [],
   "source": [
    "#Load Shakespeare scenes\n",
    "f = open('shakespeare_scenes.txt')\n",
    "shk = f.read()\n",
    "shakespeare_scenes = eval(shk)\n",
    "f.close()\n",
    "\n",
    "#Load Shakespeare acts\n",
    "f = open('shakespeare_acts.txt')\n",
    "shk = f.read()\n",
    "shakespeare_acts = eval(shk)\n",
    "f.close()"
   ]
  },
  {
   "cell_type": "code",
   "execution_count": 105,
   "metadata": {
    "collapsed": false
   },
   "outputs": [
    {
     "name": "stdout",
     "output_type": "stream",
     "text": [
      "['the', 'and', 'i', 'to', 'of', 'you', 'a', 'my', 'that', 'in', 'is', 'not', 'me', 'it', 'for', \"'s\", 'with', 'be', 'your', 'he', 'this', 'his', 'but', 'have', 'as', 'thou', \"'d\", 'him', 'so', 'will', 'what', 'thy', 'her', 'do', 'no', 'all', 'by', 'we', 'shall', 'if', 'are', 'thee', 'our', 'on', 'good', 'now', 'lord', 'o', 'from', 'come', 'sir', \"'ll\", 'she', 'at', 'they', 'or', 'was', 'let', 'which', 'here', 'more', 'would', 'there', 'well', 'how', 'then', 'am', '--', 'love', 'when', 'their', 'can', 'man', 'them', 'hath']\n"
     ]
    }
   ],
   "source": [
    "#Create baseline of all text in all plays\n",
    "all_acts_text = []\n",
    "all_acts_lines = []\n",
    "for act in shakespeare_acts:\n",
    "    all_acts_text.append(act['text'])\n",
    "all_text = ' '.join(all_acts_text).lower()\n",
    "all_lines = ' '.join(all_acts_lines)\n",
    "all_tokens = nltk.word_tokenize(all_text)\n",
    "all_freq = nltk.FreqDist(all_tokens)\n",
    "#Get top 20 most frequent terms across all plays - remove punctuation we are using for structure vector\n",
    "vocabulary = [item[0] for item in sorted(all_freq.items(), key=lambda x: x[1], reverse=True) if item[0] not in[\";\", \",\", \":\", \".\", \"?\", \"!\", \"'\"]][:75]\n",
    "print (vocabulary)"
   ]
  },
  {
   "cell_type": "code",
   "execution_count": 97,
   "metadata": {
    "collapsed": false
   },
   "outputs": [],
   "source": [
    "def structural(data):\n",
    "    elements_text = [element['text'] for element in data]\n",
    "    elements_lines = [element['lines'] for element in data]\n",
    "    elements_count = len(data)\n",
    "    \n",
    "    features = np.zeros((elements_count, 15), np.float64)\n",
    "    for i, element in enumerate(elements_lines):\n",
    "        text = ' '.join(element)\n",
    "        lines = element\n",
    "        lines_count = len(lines)\n",
    "        tokens = nltk.word_tokenize(text.lower())\n",
    "        sentences = nltk.data.load('tokenizers/punkt/english.pickle').tokenize(text.lower())\n",
    "        sentences_count = len(sentences)\n",
    "        words = nltk.tokenize.RegexpTokenizer(r'\\w+').tokenize(text.lower())\n",
    "        words_unique = list(set(words))        \n",
    "        words_line_counts = [len(nltk.tokenize.RegexpTokenizer(r'\\w+').tokenize(line.lower())) for line in lines]        \n",
    "        words_sent_counts = [len(nltk.tokenize.RegexpTokenizer(r'\\w+').tokenize(sentence.lower())) for sentence in sentences]\n",
    "\n",
    "        #Calculate features\n",
    "        mean_word_freq = float(len(words))/float(len(words_unique))\n",
    "        mean_words_line = np.mean(words_line_counts)\n",
    "        std_words_line = np.std(words_line_counts)\n",
    "        mean_words_sent = np.mean(words_sent_counts)\n",
    "        std_words_sent = np.std(words_sent_counts)\n",
    "        mean_commas_line = float(tokens.count(\",\"))/float(lines_count)\n",
    "        mean_commas_sent = float(tokens.count(\",\"))/float(sentences_count)\n",
    "        mean_colons_line = float(tokens.count(\":\"))/float(lines_count)\n",
    "        mean_colons_sent = float(tokens.count(\":\"))/float(sentences_count)\n",
    "        mean_scolons_line = float(tokens.count(\";\"))/float(lines_count)\n",
    "        mean_scolons_sent = float(tokens.count(\";\"))/float(sentences_count)\n",
    "        mean_qmarks_line = float(tokens.count(\"?\"))/float(lines_count)\n",
    "        mean_qmarks_sent = float(tokens.count(\"?\"))/float(sentences_count)\n",
    "        mean_exmarks_line = float(tokens.count(\"!\"))/float(lines_count)\n",
    "        mean_exmarks_sent = float(tokens.count(\"!\"))/float(sentences_count)\n",
    "        \n",
    "        #Assign features to matrix\n",
    "        features[i,0] = mean_word_freq\n",
    "        features[i,1] = mean_words_line\n",
    "        features[i,2] = std_words_line\n",
    "        features[i,3] = mean_words_sent\n",
    "        features[i,4] = std_words_sent\n",
    "        features[i,5] = mean_commas_line\n",
    "        features[i,6] = mean_commas_sent\n",
    "        features[i,7] = mean_colons_line\n",
    "        features[i,8] = mean_colons_sent\n",
    "        features[i,9] = mean_scolons_line\n",
    "        features[i,10] = mean_scolons_sent\n",
    "        features[i,11] = mean_qmarks_line\n",
    "        features[i,12] = mean_qmarks_sent\n",
    "        features[i,13] = mean_exmarks_line\n",
    "        features[i,14] = mean_exmarks_sent    \n",
    "        \n",
    "    return features"
   ]
  },
  {
   "cell_type": "code",
   "execution_count": 106,
   "metadata": {
    "collapsed": true
   },
   "outputs": [],
   "source": [
    "def word_freq(data):\n",
    "    elements_text = [element['text'].lower() for element in data]\n",
    "    \n",
    "    vectorizer = CountVectorizer(vocabulary=vocabulary, tokenizer=nltk.word_tokenize)\n",
    "    freq_vec = vectorizer.fit_transform(elements_text).toarray().astype(np.float64)\n",
    " \n",
    "    return freq_vec"
   ]
  },
  {
   "cell_type": "code",
   "execution_count": 140,
   "metadata": {
    "collapsed": false
   },
   "outputs": [],
   "source": [
    "from nltk.util import ngrams\n",
    "def ngram_freq(text, n):\n",
    "    tokens = [item for item in nltk.word_tokenize(text) if item not in [',', '.']]\n",
    "    ng = ngrams(tokens, n)\n",
    "    ng_freq = nltk.FreqDist(ng)\n",
    "    return ng_freq\n"
   ]
  },
  {
   "cell_type": "code",
   "execution_count": null,
   "metadata": {
    "collapsed": false
   },
   "outputs": [],
   "source": [
    "ng_all = ngram_freq(all_text,3)\n",
    "ng_all_freq = [item[0] for item in sorted(ng_all.items(), key=lambda x: x[1], reverse=True)][:50]\n",
    "#ng_all_freq = [' '.join(item[0]) for item in sorted(ng_all.items(), key=lambda x: x[1], reverse=True)][:50]\n",
    "print(ng_all_freq)"
   ]
  },
  {
   "cell_type": "code",
   "execution_count": 155,
   "metadata": {
    "collapsed": false
   },
   "outputs": [],
   "source": [
    "def ngram_freq_vec(data):\n",
    "    elements_text = [element['text'].lower() for element in data]\n",
    "    elements_count = len(elements_text)\n",
    "    elements_ngram = [[' '.join(item[0]) for item in ngram_freq(element, 3)] for element in elements_text]\n",
    "    \n",
    "    ng_freq_vec = np.zeros((elements_count, 50), np.float64)\n",
    "    for i, element in enumerate(elements_text):\n",
    "        ngdict = defaultdict(int)\n",
    "        ngf = ngram_freq(element, 3)\n",
    "        for item in ngf:\n",
    "            ngdict[' '.join(item[0])] = item[1]\n",
    "#        ngf_joined = [' '.join(item[0]) for item in ngf]\n",
    "        for j, item in enumerate (ng_all_freq):\n",
    "            ng_freq_vec[i,j] = ngdict[item]\n",
    "            \n",
    "        \n",
    "    #vectorizer = CountVectorizer(vocabulary=ng_all_freq)#, tokenizer=nltk.word_tokenize)\n",
    "    #ng_freq_vec = vectorizer.fit_transform(elements_ngram).toarray().astype(np.float64)\n",
    "    return ng_freq_vec"
   ]
  },
  {
   "cell_type": "code",
   "execution_count": 160,
   "metadata": {
    "collapsed": false
   },
   "outputs": [
    {
     "ename": "TypeError",
     "evalue": "float() argument must be a string or a number, not 'function'",
     "output_type": "error",
     "traceback": [
      "\u001b[1;31m---------------------------------------------------------------------------\u001b[0m",
      "\u001b[1;31mTypeError\u001b[0m                                 Traceback (most recent call last)",
      "\u001b[1;32m<ipython-input-160-ca8f8e33c92f>\u001b[0m in \u001b[0;36m<module>\u001b[1;34m()\u001b[0m\n\u001b[0;32m      1\u001b[0m \u001b[0mngram_freq_vec\u001b[0m\u001b[1;33m(\u001b[0m\u001b[0mshakespeare_acts\u001b[0m\u001b[1;33m)\u001b[0m\u001b[1;33m\u001b[0m\u001b[0m\n\u001b[0;32m      2\u001b[0m \u001b[0mkm_ng\u001b[0m \u001b[1;33m=\u001b[0m \u001b[0mKMeans\u001b[0m\u001b[1;33m(\u001b[0m\u001b[0mn_clusters\u001b[0m\u001b[1;33m=\u001b[0m\u001b[1;36m3\u001b[0m\u001b[1;33m,\u001b[0m \u001b[0minit\u001b[0m\u001b[1;33m=\u001b[0m\u001b[1;34m'k-means++'\u001b[0m\u001b[1;33m,\u001b[0m \u001b[0mn_init\u001b[0m\u001b[1;33m=\u001b[0m\u001b[1;36m99\u001b[0m\u001b[1;33m)\u001b[0m\u001b[1;33m\u001b[0m\u001b[0m\n\u001b[1;32m----> 3\u001b[1;33m \u001b[0mkm_ng\u001b[0m\u001b[1;33m.\u001b[0m\u001b[0mfit\u001b[0m\u001b[1;33m(\u001b[0m\u001b[0mngram_freq_vec\u001b[0m\u001b[1;33m)\u001b[0m\u001b[1;33m\u001b[0m\u001b[0m\n\u001b[0m\u001b[0;32m      4\u001b[0m \u001b[0mkm_ng_pred\u001b[0m \u001b[1;33m=\u001b[0m \u001b[0mkm_freq\u001b[0m\u001b[1;33m.\u001b[0m\u001b[0mpredict\u001b[0m\u001b[1;33m(\u001b[0m\u001b[0mngram_freq_vec\u001b[0m\u001b[1;33m)\u001b[0m\u001b[1;33m\u001b[0m\u001b[0m\n\u001b[0;32m      5\u001b[0m \u001b[1;33m\u001b[0m\u001b[0m\n",
      "\u001b[1;32mC:\\Users\\greeniend\\Anaconda\\envs\\py3k\\lib\\site-packages\\sklearn\\cluster\\k_means_.py\u001b[0m in \u001b[0;36mfit\u001b[1;34m(self, X, y)\u001b[0m\n\u001b[0;32m    783\u001b[0m         \"\"\"\n\u001b[0;32m    784\u001b[0m         \u001b[0mrandom_state\u001b[0m \u001b[1;33m=\u001b[0m \u001b[0mcheck_random_state\u001b[0m\u001b[1;33m(\u001b[0m\u001b[0mself\u001b[0m\u001b[1;33m.\u001b[0m\u001b[0mrandom_state\u001b[0m\u001b[1;33m)\u001b[0m\u001b[1;33m\u001b[0m\u001b[0m\n\u001b[1;32m--> 785\u001b[1;33m         \u001b[0mX\u001b[0m \u001b[1;33m=\u001b[0m \u001b[0mself\u001b[0m\u001b[1;33m.\u001b[0m\u001b[0m_check_fit_data\u001b[0m\u001b[1;33m(\u001b[0m\u001b[0mX\u001b[0m\u001b[1;33m)\u001b[0m\u001b[1;33m\u001b[0m\u001b[0m\n\u001b[0m\u001b[0;32m    786\u001b[0m \u001b[1;33m\u001b[0m\u001b[0m\n\u001b[0;32m    787\u001b[0m         \u001b[0mself\u001b[0m\u001b[1;33m.\u001b[0m\u001b[0mcluster_centers_\u001b[0m\u001b[1;33m,\u001b[0m \u001b[0mself\u001b[0m\u001b[1;33m.\u001b[0m\u001b[0mlabels_\u001b[0m\u001b[1;33m,\u001b[0m \u001b[0mself\u001b[0m\u001b[1;33m.\u001b[0m\u001b[0minertia_\u001b[0m\u001b[1;33m,\u001b[0m \u001b[0mself\u001b[0m\u001b[1;33m.\u001b[0m\u001b[0mn_iter_\u001b[0m \u001b[1;33m=\u001b[0m\u001b[0;31m \u001b[0m\u001b[0;31m\\\u001b[0m\u001b[1;33m\u001b[0m\u001b[0m\n",
      "\u001b[1;32mC:\\Users\\greeniend\\Anaconda\\envs\\py3k\\lib\\site-packages\\sklearn\\cluster\\k_means_.py\u001b[0m in \u001b[0;36m_check_fit_data\u001b[1;34m(self, X)\u001b[0m\n\u001b[0;32m    753\u001b[0m     \u001b[1;32mdef\u001b[0m \u001b[0m_check_fit_data\u001b[0m\u001b[1;33m(\u001b[0m\u001b[0mself\u001b[0m\u001b[1;33m,\u001b[0m \u001b[0mX\u001b[0m\u001b[1;33m)\u001b[0m\u001b[1;33m:\u001b[0m\u001b[1;33m\u001b[0m\u001b[0m\n\u001b[0;32m    754\u001b[0m         \u001b[1;34m\"\"\"Verify that the number of samples given is larger than k\"\"\"\u001b[0m\u001b[1;33m\u001b[0m\u001b[0m\n\u001b[1;32m--> 755\u001b[1;33m         \u001b[0mX\u001b[0m \u001b[1;33m=\u001b[0m \u001b[0mcheck_array\u001b[0m\u001b[1;33m(\u001b[0m\u001b[0mX\u001b[0m\u001b[1;33m,\u001b[0m \u001b[0maccept_sparse\u001b[0m\u001b[1;33m=\u001b[0m\u001b[1;34m'csr'\u001b[0m\u001b[1;33m,\u001b[0m \u001b[0mdtype\u001b[0m\u001b[1;33m=\u001b[0m\u001b[0mnp\u001b[0m\u001b[1;33m.\u001b[0m\u001b[0mfloat64\u001b[0m\u001b[1;33m)\u001b[0m\u001b[1;33m\u001b[0m\u001b[0m\n\u001b[0m\u001b[0;32m    756\u001b[0m         \u001b[1;32mif\u001b[0m \u001b[0mX\u001b[0m\u001b[1;33m.\u001b[0m\u001b[0mshape\u001b[0m\u001b[1;33m[\u001b[0m\u001b[1;36m0\u001b[0m\u001b[1;33m]\u001b[0m \u001b[1;33m<\u001b[0m \u001b[0mself\u001b[0m\u001b[1;33m.\u001b[0m\u001b[0mn_clusters\u001b[0m\u001b[1;33m:\u001b[0m\u001b[1;33m\u001b[0m\u001b[0m\n\u001b[0;32m    757\u001b[0m             raise ValueError(\"n_samples=%d should be >= n_clusters=%d\" % (\n",
      "\u001b[1;32mC:\\Users\\greeniend\\Anaconda\\envs\\py3k\\lib\\site-packages\\sklearn\\utils\\validation.py\u001b[0m in \u001b[0;36mcheck_array\u001b[1;34m(array, accept_sparse, dtype, order, copy, force_all_finite, ensure_2d, allow_nd, ensure_min_samples, ensure_min_features)\u001b[0m\n\u001b[0;32m    342\u001b[0m             \u001b[1;32melse\u001b[0m\u001b[1;33m:\u001b[0m\u001b[1;33m\u001b[0m\u001b[0m\n\u001b[0;32m    343\u001b[0m                 \u001b[0mdtype\u001b[0m \u001b[1;33m=\u001b[0m \u001b[1;32mNone\u001b[0m\u001b[1;33m\u001b[0m\u001b[0m\n\u001b[1;32m--> 344\u001b[1;33m         \u001b[0marray\u001b[0m \u001b[1;33m=\u001b[0m \u001b[0mnp\u001b[0m\u001b[1;33m.\u001b[0m\u001b[0marray\u001b[0m\u001b[1;33m(\u001b[0m\u001b[0marray\u001b[0m\u001b[1;33m,\u001b[0m \u001b[0mdtype\u001b[0m\u001b[1;33m=\u001b[0m\u001b[0mdtype\u001b[0m\u001b[1;33m,\u001b[0m \u001b[0morder\u001b[0m\u001b[1;33m=\u001b[0m\u001b[0morder\u001b[0m\u001b[1;33m,\u001b[0m \u001b[0mcopy\u001b[0m\u001b[1;33m=\u001b[0m\u001b[0mcopy\u001b[0m\u001b[1;33m)\u001b[0m\u001b[1;33m\u001b[0m\u001b[0m\n\u001b[0m\u001b[0;32m    345\u001b[0m         \u001b[1;31m# make sure we actually converted to numeric:\u001b[0m\u001b[1;33m\u001b[0m\u001b[1;33m\u001b[0m\u001b[0m\n\u001b[0;32m    346\u001b[0m         \u001b[1;32mif\u001b[0m \u001b[0mdtype_numeric\u001b[0m \u001b[1;32mand\u001b[0m \u001b[0marray\u001b[0m\u001b[1;33m.\u001b[0m\u001b[0mdtype\u001b[0m\u001b[1;33m.\u001b[0m\u001b[0mkind\u001b[0m \u001b[1;33m==\u001b[0m \u001b[1;34m\"O\"\u001b[0m\u001b[1;33m:\u001b[0m\u001b[1;33m\u001b[0m\u001b[0m\n",
      "\u001b[1;31mTypeError\u001b[0m: float() argument must be a string or a number, not 'function'"
     ]
    }
   ],
   "source": [
    "ngram_freq_vec(shakespeare_acts)\n",
    "km_ng = KMeans(n_clusters=3, init='k-means++', n_init=99)\n",
    "km_ng.fit(ngram_freq_vec)\n",
    "km_ng_pred = km_freq.predict(ngram_freq_vec)\n",
    "\n",
    "km_ng_score = silhouette_score(ngram_freq_vec, km_ng_pred, metric='sqeuclidean')\n",
    "km_ng_score"
   ]
  },
  {
   "cell_type": "code",
   "execution_count": 162,
   "metadata": {
    "collapsed": false
   },
   "outputs": [],
   "source": [
    "document = [element['text'].lower() for element in shakespeare_acts]\n",
    "vectorizer = CountVectorizer(ngram_range=(1, 5))\n",
    "\n",
    "# Don't need both X and transformer; they should be identical\n",
    "X = vectorizer.fit_transform(document)\n",
    "matrix_terms = np.array(vectorizer.get_feature_names())\n",
    "\n",
    "# Use the axis keyword to sum over rows\n",
    "matrix_freq = np.asarray(X.sum(axis=0)).ravel()\n",
    "final_matrix = np.array([matrix_terms,matrix_freq])\n",
    "\n",
    "terms = vectorizer.get_feature_names()\n",
    "freqs = X.sum(axis=0).A1\n",
    "result = dict(zip(terms, freqs))\n",
    "print (result)"
   ]
  },
  {
   "cell_type": "code",
   "execution_count": null,
   "metadata": {
    "collapsed": true
   },
   "outputs": [],
   "source": []
  },
  {
   "cell_type": "code",
   "execution_count": 113,
   "metadata": {
    "collapsed": true
   },
   "outputs": [],
   "source": [
    "def authorship(data, clusters):\n",
    "    freq = word_freq(data)\n",
    "    struc = structural(data)\n",
    "    km_freq = KMeans(n_clusters=clusters, init='k-means++', n_init=99)\n",
    "    km_struc = KMeans(n_clusters=clusters, init='k-means++', n_init=99)\n",
    "    km_freq.fit(freq)\n",
    "    km_struc.fit(struc)\n",
    "    km_freq_pred = km_freq.predict(freq)\n",
    "    km_struc_pred = km_struc.predict(struc)\n",
    "    km_freq_score = silhouette_score(freq, km_freq_pred, metric='sqeuclidean')\n",
    "    km_struc_score = silhouette_score(struc, km_struc_pred, metric='sqeuclidean')\n",
    "    gmm_freq = GMM(n_components = clusters, covariance_type=\"full\")\n",
    "    gmm_struc = GMM(n_components = clusters, covariance_type=\"full\")\n",
    "    gmm_freq.fit(freq)\n",
    "    gmm_struc.fit(struc)\n",
    "    gmm_freq_pred = gmm_freq.predict(freq)\n",
    "    gmm_struc_pred = gmm_struc.predict(struc)\n",
    "    gmm_freq_score = silhouette_score(freq, gmm_freq_pred, metric='sqeuclidean')\n",
    "    gmm_struc_score = silhouette_score(freq, gmm_struc_pred, metric='sqeuclidean')\n",
    "    return [km_freq, km_freq_score], [km_struc, km_struc_score], [gmm_freq, gmm_freq_score], [gmm_struc, gmm_struc_score]"
   ]
  },
  {
   "cell_type": "code",
   "execution_count": 125,
   "metadata": {
    "collapsed": false
   },
   "outputs": [
    {
     "name": "stdout",
     "output_type": "stream",
     "text": [
      "Acts Scores:\n",
      "Frequency: gmm: 0.399469235729 km: 0.421806507705\n",
      "Structural: gmm: 0.311433911817 km: 0.6567109778\n",
      "Scenes Scores:\n",
      "Frequency: gmm: 0.499902335515 km: 0.626385454173\n",
      "Structural: gmm: -0.365955552204 km: 0.776378749835\n"
     ]
    },
    {
     "name": "stderr",
     "output_type": "stream",
     "text": [
      "C:\\Users\\greeniend\\Anaconda\\envs\\py3k\\lib\\site-packages\\numpy\\core\\_methods.py:59: RuntimeWarning: Mean of empty slice.\n",
      "  warnings.warn(\"Mean of empty slice.\", RuntimeWarning)\n"
     ]
    }
   ],
   "source": [
    "km_acts_freq, km_acts_struc, gmm_acts_freq, gmm_acts_struc = authorship(shakespeare_acts, 3)\n",
    "km_scenes_freq, km_scenes_struc, gmm_scenes_freq, gmm_scenes_struc = authorship(shakespeare_scenes, 3)\n",
    "\n",
    "print (\"Acts Scores:\")\n",
    "print(\"Frequency: gmm:\", gmm_acts_freq[1], \"km:\", km_acts_freq[1])\n",
    "print(\"Structural: gmm:\", gmm_acts_struc[1], \"km:\", km_acts_struc[1])\n",
    "print (\"Scenes Scores:\")\n",
    "print(\"Frequency: gmm:\", gmm_scenes_freq[1], \"km:\", km_scenes_freq[1])\n",
    "print(\"Structural: gmm:\", gmm_scenes_struc[1], \"km:\", km_scenes_struc[1])"
   ]
  },
  {
   "cell_type": "code",
   "execution_count": 117,
   "metadata": {
    "collapsed": false
   },
   "outputs": [
    {
     "name": "stderr",
     "output_type": "stream",
     "text": [
      "C:\\Users\\greeniend\\Anaconda\\envs\\py3k\\lib\\site-packages\\numpy\\core\\_methods.py:59: RuntimeWarning: Mean of empty slice.\n",
      "  warnings.warn(\"Mean of empty slice.\", RuntimeWarning)\n"
     ]
    },
    {
     "data": {
      "image/png": "[encoded data removed]",
      "text/plain": [
       "<matplotlib.figure.Figure at 0x1c83b2b0>"
      ]
     },
     "metadata": {},
     "output_type": "display_data"
    }
   ],
   "source": [
    "colors = ['red', 'blue', 'green', 'orange']\n",
    "labels =['km_freq', 'km_struc','gmm_freq', 'gmm_struc']\n",
    "\n",
    "plt.figure(figsize=(20,8))\n",
    "\n",
    "for k in range(2,8):\n",
    "    scores_acts = [item[1] for item in authorship(shakespeare_acts, k)]\n",
    "    scores_scenes = [item[1] for item in authorship(shakespeare_scenes, k)]\n",
    "    for i, item in enumerate (scores_acts):\n",
    "        plt.scatter(k, item, color=colors[i], label=labels[i] + \"_acts\")\n",
    "    for i, item in enumerate (scores_scenes):\n",
    "        plt.scatter(k, item, color=colors[i], marker=\">\", label=labels[i] + \"_scenes\")\n",
    "\n",
    "plt.xlabel(\"K\")\n",
    "plt.ylabel(\"Silhouette Score\")\n",
    "plt.show()\n",
    "    \n",
    "    "
   ]
  },
  {
   "cell_type": "code",
   "execution_count": 101,
   "metadata": {
    "collapsed": false
   },
   "outputs": [
    {
     "name": "stdout",
     "output_type": "stream",
     "text": [
      "                            Title Act  Frequency_km  Structural_km\n",
      "0       All's Well That Ends Well   1             1              0\n",
      "1       All's Well That Ends Well   2             0              2\n",
      "2       All's Well That Ends Well   3             1              2\n",
      "3       All's Well That Ends Well   4             0              2\n",
      "4       All's Well That Ends Well   5             1              2\n",
      "5                  As You Like It   1             0              2\n",
      "6                  As You Like It   2             0              0\n",
      "7                  As You Like It   3             0              2\n",
      "8                  As You Like It   4             1              2\n",
      "9                  As You Like It   5             1              0\n",
      "10           The Comedy of Errors   1             1              0\n",
      "11           The Comedy of Errors   2             1              2\n",
      "12           The Comedy of Errors   3             1              2\n",
      "13           The Comedy of Errors   4             1              2\n",
      "14           The Comedy of Errors   5             1              2\n",
      "15                      Cymbeline   1             0              0\n",
      "16                      Cymbeline   2             1              2\n",
      "17                      Cymbeline   3             0              0\n",
      "18                      Cymbeline   4             1              2\n",
      "19                      Cymbeline   5             0              0\n",
      "20             Loves Labours Lost   1             1              2\n",
      "21             Loves Labours Lost   2             1              2\n",
      "22             Loves Labours Lost   3             1              2\n",
      "23             Loves Labours Lost   4             0              2\n",
      "24             Loves Labours Lost   5             0              2\n",
      "25            Measure for Measure   1             1              2\n",
      "26            Measure for Measure   2             0              2\n",
      "27            Measure for Measure   3             0              2\n",
      "28            Measure for Measure   4             0              2\n",
      "29            Measure for Measure   5             1              2\n",
      "..                            ...  ..           ...            ...\n",
      "158                     King Lear   2             0              2\n",
      "159                     King Lear   3             0              2\n",
      "160                     King Lear   4             0              2\n",
      "161                     King Lear   5             1              2\n",
      "162        The Tragedy of Macbeth   1             1              2\n",
      "163        The Tragedy of Macbeth   2             1              2\n",
      "164        The Tragedy of Macbeth   3             1              0\n",
      "165        The Tragedy of Macbeth   4             1              2\n",
      "166        The Tragedy of Macbeth   5             1              2\n",
      "167  Othello, the Moore of Venice   1             0              0\n",
      "168  Othello, the Moore of Venice   2             0              2\n",
      "169  Othello, the Moore of Venice   3             0              2\n",
      "170  Othello, the Moore of Venice   4             0              2\n",
      "171  Othello, the Moore of Venice   5             1              2\n",
      "172              Romeo and Juliet   1             0              2\n",
      "173              Romeo and Juliet   2             0              2\n",
      "174              Romeo and Juliet   3             0              2\n",
      "175              Romeo and Juliet   4             1              2\n",
      "176              Romeo and Juliet   5             1              2\n",
      "177               Timon of Athens   1             1              2\n",
      "178               Timon of Athens   2             1              2\n",
      "179               Timon of Athens   3             1              2\n",
      "180               Timon of Athens   4             1              2\n",
      "181               Timon of Athens   5             1              0\n",
      "182              Titus Andronicus   1             1              0\n",
      "183              Titus Andronicus   2             1              0\n",
      "184              Titus Andronicus   3             1              0\n",
      "185              Titus Andronicus   4             1              2\n",
      "186              Titus Andronicus   5             1              0\n",
      "187                       Sonnets   1             2              0\n",
      "\n",
      "[188 rows x 4 columns]\n"
     ]
    }
   ],
   "source": [
    "columns = ['Title', 'Act', 'Frequency_km', 'Structural_km']\n",
    "clusters = pd.DataFrame(columns = columns)\n",
    "clusters['Title'] = [item['title'] for item in shakespeare_acts]\n",
    "clusters['Act'] = [item['act'] for item in shakespeare_acts]\n",
    "clusters['Frequency_km'] = km_acts_freq[0].labels_\n",
    "clusters['Structural_km'] = km_acts_struc[0].labels_\n",
    "print (clusters)\n",
    "clusters.to_csv('clusters_acts.csv')"
   ]
  },
  {
   "cell_type": "code",
   "execution_count": 102,
   "metadata": {
    "collapsed": false
   },
   "outputs": [
    {
     "name": "stdout",
     "output_type": "stream",
     "text": [
      "                         Title Act Scene  Frequency_km  Structural_km\n",
      "0    All's Well That Ends Well   1     1             2              1\n",
      "1    All's Well That Ends Well   1     2             0              1\n",
      "2    All's Well That Ends Well   1     3             2              1\n",
      "3    All's Well That Ends Well   2     1             2              1\n",
      "4    All's Well That Ends Well   2     2             0              1\n",
      "5    All's Well That Ends Well   2     3             1              1\n",
      "6    All's Well That Ends Well   2     4             0              1\n",
      "7    All's Well That Ends Well   2     5             0              1\n",
      "8    All's Well That Ends Well   3     1             0              1\n",
      "9    All's Well That Ends Well   3     2             2              1\n",
      "10   All's Well That Ends Well   3     3             0              1\n",
      "11   All's Well That Ends Well   3     4             0              1\n",
      "12   All's Well That Ends Well   3     5             0              1\n",
      "13   All's Well That Ends Well   3     6             2              1\n",
      "14   All's Well That Ends Well   3     7             0              0\n",
      "15   All's Well That Ends Well   4     1             0              1\n",
      "16   All's Well That Ends Well   4     2             0              1\n",
      "17   All's Well That Ends Well   4     3             1              1\n",
      "18   All's Well That Ends Well   4     4             0              0\n",
      "19   All's Well That Ends Well   4     5             2              1\n",
      "20   All's Well That Ends Well   5     1             0              1\n",
      "21   All's Well That Ends Well   5     2             0              1\n",
      "22   All's Well That Ends Well   5     3             1              1\n",
      "23              As You Like It   1     1             2              1\n",
      "24              As You Like It   1     2             2              1\n",
      "25              As You Like It   1     3             2              1\n",
      "26              As You Like It   2     1             0              0\n",
      "27              As You Like It   2     2             0              1\n",
      "28              As You Like It   2     3             0              1\n",
      "29              As You Like It   2     4             0              1\n",
      "..                         ...  ..   ...           ...            ...\n",
      "877                    Sonnets   1   125             0              1\n",
      "878                    Sonnets   1   126             0              0\n",
      "879                    Sonnets   1   127             0              0\n",
      "880                    Sonnets   1   128             0              0\n",
      "881                    Sonnets   1   129             0              0\n",
      "882                    Sonnets   1   130             0              0\n",
      "883                    Sonnets   1   131             0              0\n",
      "884                    Sonnets   1   132             0              0\n",
      "885                    Sonnets   1   133             0              0\n",
      "886                    Sonnets   1   134             0              0\n",
      "887                    Sonnets   1   135             0              1\n",
      "888                    Sonnets   1   136             0              0\n",
      "889                    Sonnets   1   137             0              1\n",
      "890                    Sonnets   1   138             0              1\n",
      "891                    Sonnets   1   139             0              0\n",
      "892                    Sonnets   1   140             0              0\n",
      "893                    Sonnets   1   141             0              2\n",
      "894                    Sonnets   1   142             0              0\n",
      "895                    Sonnets   1   143             0              0\n",
      "896                    Sonnets   1   144             0              0\n",
      "897                    Sonnets   1   145             0              2\n",
      "898                    Sonnets   1   146             0              1\n",
      "899                    Sonnets   1   147             0              0\n",
      "900                    Sonnets   1   148             0              1\n",
      "901                    Sonnets   1   149             0              1\n",
      "902                    Sonnets   1   150             0              1\n",
      "903                    Sonnets   1   151             0              0\n",
      "904                    Sonnets   1   152             0              0\n",
      "905                    Sonnets   1   153             0              0\n",
      "906                    Sonnets   1   154             0              0\n",
      "\n",
      "[907 rows x 5 columns]\n"
     ]
    }
   ],
   "source": [
    "columns = ['Title', 'Act', 'Scene', 'Frequency_km', 'Structural_km']\n",
    "clusters = pd.DataFrame(columns = columns)\n",
    "clusters['Title'] = [item['title'] for item in shakespeare_scenes]\n",
    "clusters['Act'] = [item['act'] for item in shakespeare_scenes]\n",
    "clusters['Scene'] = [item['scene'] for item in shakespeare_scenes]\n",
    "clusters['Frequency_km'] = km_scenes_freq[0].labels_\n",
    "clusters['Structural_km'] = km_scenes_struc[0].labels_\n",
    "print (clusters)\n",
    "clusters.to_csv('clusters_scenes.csv')"
   ]
  },
  {
   "cell_type": "code",
   "execution_count": 103,
   "metadata": {
    "collapsed": false
   },
   "outputs": [
    {
     "data": {
      "image/png": "[encoded data removed]",
      "text/plain": [
       "<matplotlib.figure.Figure at 0x128d9128>"
      ]
     },
     "metadata": {},
     "output_type": "display_data"
    }
   ],
   "source": [
    "svd = sklearn.decomposition.TruncatedSVD(n_components=2)\n",
    "freq = word_freq(shakespeare_acts)\n",
    "centered= freq - np.mean(freq, axis=0)\n",
    "freq_2d = svd.fit_transform(centered)\n",
    "struc = structural(shakespeare_acts)\n",
    "centered2= struc - np.mean(struc, axis=0)\n",
    "struc_2d = svd.fit_transform(centered2)\n",
    "#plt.scatter(struc_2d[:,0], struc_2d[:,1])\n",
    "\n",
    "plt.figure(figsize=(20,6))\n",
    "plt.subplot(1, 2, 1)\n",
    "plt.scatter(freq_2d[:,0], freq_2d[:,1])\n",
    "plt.title(\"Word Frequency\")\n",
    "\n",
    "plt.subplot(1, 2, 2)\n",
    "plt.scatter(struc_2d[:,0], struc_2d[:,1], alpha=0.8)\n",
    "plt.title(\"Structural\")\n",
    "plt.show()"
   ]
  },
  {
   "cell_type": "code",
   "execution_count": 104,
   "metadata": {
    "collapsed": false
   },
   "outputs": [
    {
     "data": {
      "image/png": "[encoded data removed]",
      "text/plain": [
       "<matplotlib.figure.Figure at 0x171b8b38>"
      ]
     },
     "metadata": {},
     "output_type": "display_data"
    }
   ],
   "source": [
    "svd = sklearn.decomposition.TruncatedSVD(n_components=2)\n",
    "freq = word_freq(shakespeare_acts)\n",
    "centered= freq - np.mean(freq, axis=0)\n",
    "freq_2d = svd.fit_transform(centered)\n",
    "struc = structural(shakespeare_scenes)\n",
    "centered2= struc - np.mean(struc, axis=0)\n",
    "struc_2d = svd.fit_transform(centered2)\n",
    "#plt.scatter(struc_2d[:,0], struc_2d[:,1])\n",
    "\n",
    "plt.figure(figsize=(20,6))\n",
    "plt.subplot(1, 2, 1)\n",
    "plt.scatter(freq_2d[:,0], freq_2d[:,1])\n",
    "plt.title(\"Word Frequency\")\n",
    "\n",
    "plt.subplot(1, 2, 2)\n",
    "plt.scatter(struc_2d[:,0], struc_2d[:,1], alpha=0.8)\n",
    "plt.title(\"Structural\")\n",
    "plt.show()"
   ]
  },
  {
   "cell_type": "code",
   "execution_count": null,
   "metadata": {
    "collapsed": true
   },
   "outputs": [],
   "source": []
  }
 ],
 "metadata": {
  "kernelspec": {
   "display_name": "Python 3",
   "language": "python",
   "name": "python3"
  },
  "language_info": {
   "codemirror_mode": {
    "name": "ipython",
    "version": 3
   },
   "file_extension": ".py",
   "mimetype": "text/x-python",
   "name": "python",
   "nbconvert_exporter": "python",
   "pygments_lexer": "ipython3",
   "version": "3.4.3"
  }
 },
 "nbformat": 4,
 "nbformat_minor": 0
}
